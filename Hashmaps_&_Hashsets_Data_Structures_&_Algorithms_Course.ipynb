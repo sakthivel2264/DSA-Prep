{
  "cells": [
    {
      "cell_type": "code",
      "execution_count": 2,
      "metadata": {
        "colab": {
          "base_uri": "https://localhost:8080/"
        },
        "id": "xIrDzGEC9IDx",
        "outputId": "7c9ca665-8e91-4dba-ec0d-515ce78235c1"
      },
      "outputs": [
        {
          "name": "stdout",
          "output_type": "stream",
          "text": [
            "set()\n"
          ]
        }
      ],
      "source": [
        "# Hashsets\n",
        "\n",
        "s = set()\n",
        "print(s)"
      ]
    },
    {
      "cell_type": "code",
      "execution_count": 3,
      "metadata": {
        "colab": {
          "base_uri": "https://localhost:8080/"
        },
        "id": "67nPv_Ka98eu",
        "outputId": "cf387f83-c0a3-4d15-82bc-d59ea56ff275"
      },
      "outputs": [
        {
          "name": "stdout",
          "output_type": "stream",
          "text": [
            "{1, 2, 3}\n"
          ]
        }
      ],
      "source": [
        "# Add item into Set - O(1)\n",
        "s.add(1)\n",
        "s.add(2)\n",
        "s.add(3)\n",
        "\n",
        "print(s)"
      ]
    },
    {
      "cell_type": "code",
      "execution_count": 4,
      "metadata": {
        "id": "YG4iR3ig-K5Q"
      },
      "outputs": [],
      "source": [
        "# Lookup if item in set - O(1)\n",
        "if 1 not in s:\n",
        "  print(True)"
      ]
    },
    {
      "cell_type": "code",
      "execution_count": null,
      "metadata": {
        "colab": {
          "base_uri": "https://localhost:8080/"
        },
        "id": "JQSMRLA0-fEp",
        "outputId": "331abf70-aa8c-4704-a941-9a279d18239b"
      },
      "outputs": [
        {
          "name": "stdout",
          "output_type": "stream",
          "text": [
            "{1, 2}\n"
          ]
        }
      ],
      "source": [
        "# Remove item from set - O(1)\n",
        "s.remove(3)\n",
        "\n",
        "print(s)"
      ]
    },
    {
      "cell_type": "code",
      "execution_count": null,
      "metadata": {
        "colab": {
          "base_uri": "https://localhost:8080/"
        },
        "id": "RkxoAEjU-sYJ",
        "outputId": "258ff0ff-347f-428c-c5e3-c259a3b12f2e"
      },
      "outputs": [
        {
          "data": {
            "text/plain": [
              "{'a', 'b', 'c', 'e'}"
            ]
          },
          "execution_count": 10,
          "metadata": {},
          "output_type": "execute_result"
        }
      ],
      "source": [
        "# Set construction - O(S) - S is the length of the string\n",
        "string = 'aaaaaaabbbbbbbbbbbccccccccceeeeeeeee'\n",
        "sett = set(string)\n",
        "\n",
        "sett"
      ]
    },
    {
      "cell_type": "code",
      "execution_count": 5,
      "metadata": {
        "colab": {
          "base_uri": "https://localhost:8080/"
        },
        "id": "VSOIxmqk_WTV",
        "outputId": "d6224e95-ed7f-4e86-c2fd-baf84993eea9"
      },
      "outputs": [
        {
          "name": "stdout",
          "output_type": "stream",
          "text": [
            "1\n",
            "2\n",
            "3\n"
          ]
        }
      ],
      "source": [
        "# Loop over items in set - O(n)\n",
        "for x in s:\n",
        "  print(x)"
      ]
    },
    {
      "cell_type": "code",
      "execution_count": 6,
      "metadata": {
        "colab": {
          "base_uri": "https://localhost:8080/"
        },
        "id": "Qa4O32ah_wPv",
        "outputId": "316fd74f-29ee-4137-c907-7fd9967daa0e"
      },
      "outputs": [
        {
          "name": "stdout",
          "output_type": "stream",
          "text": [
            "{'greg': 1, 'steve': 2, 'rob': 3}\n"
          ]
        }
      ],
      "source": [
        "# Hashmaps - Dictionaries\n",
        "\n",
        "d = {'greg': 1, 'steve': 2, 'rob': 3}\n",
        "\n",
        "print(d)"
      ]
    },
    {
      "cell_type": "code",
      "execution_count": null,
      "metadata": {
        "colab": {
          "base_uri": "https://localhost:8080/"
        },
        "id": "Qt1ltzeMAPkz",
        "outputId": "62ca9aa4-db66-407c-ff0f-7bb034d23553"
      },
      "outputs": [
        {
          "name": "stdout",
          "output_type": "stream",
          "text": [
            "{'greg': 1, 'steve': 2, 'rob': 3, 'arsh': 4}\n"
          ]
        }
      ],
      "source": [
        "# Add key:val in dictionary: O(1)\n",
        "d['arsh'] = 4\n",
        "\n",
        "print(d)"
      ]
    },
    {
      "cell_type": "code",
      "execution_count": 7,
      "metadata": {
        "colab": {
          "base_uri": "https://localhost:8080/"
        },
        "id": "6DA5u-jKAXjh",
        "outputId": "82a57342-0a19-413a-9c51-2717bf14f0db"
      },
      "outputs": [
        {
          "name": "stdout",
          "output_type": "stream",
          "text": [
            "True\n"
          ]
        }
      ],
      "source": [
        "# Check for presence of key in dictionary: O(1)\n",
        "if 'greg' in d:\n",
        "  print(True)"
      ]
    },
    {
      "cell_type": "code",
      "execution_count": null,
      "metadata": {
        "colab": {
          "base_uri": "https://localhost:8080/"
        },
        "id": "c94jF_iZAfpA",
        "outputId": "e1f5d47a-6445-4ce7-e726-d679c73c5370"
      },
      "outputs": [
        {
          "name": "stdout",
          "output_type": "stream",
          "text": [
            "1\n"
          ]
        }
      ],
      "source": [
        "# Check the value corresponding to a key in the dictionary: O(1)\n",
        "print(d['greg'])"
      ]
    },
    {
      "cell_type": "code",
      "execution_count": null,
      "metadata": {
        "colab": {
          "base_uri": "https://localhost:8080/"
        },
        "id": "N-X5FGK3At08",
        "outputId": "9f77df1d-1d08-4cd2-f463-757318686324"
      },
      "outputs": [
        {
          "name": "stdout",
          "output_type": "stream",
          "text": [
            "key greg: val 1\n",
            "key steve: val 2\n",
            "key rob: val 3\n",
            "key arsh: val 4\n"
          ]
        }
      ],
      "source": [
        "# Loop over the key:val pairs of the dictionary: O(n)\n",
        "for key, val in d.items():\n",
        "  print(f'key {key}: val {val}')"
      ]
    },
    {
      "cell_type": "code",
      "execution_count": null,
      "metadata": {
        "colab": {
          "base_uri": "https://localhost:8080/"
        },
        "id": "b0aVRGmnBSta",
        "outputId": "314ec3aa-3135-4769-ea83-fe2af5dba355"
      },
      "outputs": [
        {
          "data": {
            "text/plain": [
              "[]"
            ]
          },
          "execution_count": 26,
          "metadata": {},
          "output_type": "execute_result"
        }
      ],
      "source": [
        "# Defaultdict\n",
        "\n",
        "from collections import defaultdict\n",
        "\n",
        "default = defaultdict(list)\n",
        "\n",
        "default[2]"
      ]
    },
    {
      "cell_type": "code",
      "execution_count": null,
      "metadata": {
        "colab": {
          "base_uri": "https://localhost:8080/"
        },
        "id": "tYWsT4UBB2wX",
        "outputId": "64a00662-4c99-42b2-e419-ce5afb28806f"
      },
      "outputs": [
        {
          "data": {
            "text/plain": [
              "defaultdict(list, {2: []})"
            ]
          },
          "execution_count": 27,
          "metadata": {},
          "output_type": "execute_result"
        }
      ],
      "source": [
        "default"
      ]
    },
    {
      "cell_type": "code",
      "execution_count": null,
      "metadata": {
        "colab": {
          "base_uri": "https://localhost:8080/"
        },
        "id": "p_oTXElwB89U",
        "outputId": "de692dc0-5a4a-4874-b380-9c0ab2c5ee3e"
      },
      "outputs": [
        {
          "name": "stdout",
          "output_type": "stream",
          "text": [
            "Counter({'b': 11, 'c': 9, 'e': 9, 'a': 7})\n"
          ]
        }
      ],
      "source": [
        "# Counter\n",
        "from collections import Counter\n",
        "\n",
        "counter = Counter(string)\n",
        "\n",
        "print(counter)"
      ]
    },
    {
      "cell_type": "code",
      "execution_count": null,
      "metadata": {
        "id": "YM5y0IXnCOZm"
      },
      "outputs": [],
      "source": []
    }
  ],
  "metadata": {
    "colab": {
      "provenance": []
    },
    "kernelspec": {
      "display_name": "Python 3",
      "name": "python3"
    },
    "language_info": {
      "codemirror_mode": {
        "name": "ipython",
        "version": 3
      },
      "file_extension": ".py",
      "mimetype": "text/x-python",
      "name": "python",
      "nbconvert_exporter": "python",
      "pygments_lexer": "ipython3",
      "version": "3.13.2"
    }
  },
  "nbformat": 4,
  "nbformat_minor": 0
}
