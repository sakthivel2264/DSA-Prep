{
  "cells": [
    {
      "cell_type": "code",
      "execution_count": 1,
      "metadata": {
        "id": "5fn9_iiHT9-k"
      },
      "outputs": [],
      "source": [
        "# Singly Linked Lists\n",
        "\n",
        "class SinglyNode:\n",
        "\n",
        "  def __init__(self, val, next=None):\n",
        "    self.val = val\n",
        "    self.next = next\n",
        "\n",
        "  def __str__(self):\n",
        "    return str(self.val)"
      ]
    },
    {
      "cell_type": "code",
      "execution_count": 5,
      "metadata": {
        "colab": {
          "base_uri": "https://localhost:8080/"
        },
        "id": "rCVirKAqU4HF",
        "outputId": "46c0dc1c-04fc-45e8-cc6b-7df3aa064b12"
      },
      "outputs": [
        {
          "name": "stdout",
          "output_type": "stream",
          "text": [
            "1\n"
          ]
        }
      ],
      "source": [
        "Head = SinglyNode(1)\n",
        "A = SinglyNode(3)\n",
        "B = SinglyNode(8)\n",
        "C = SinglyNode(7)\n",
        "\n",
        "Head.next = A\n",
        "A.next = B\n",
        "B.next = C\n",
        "\n",
        "print(Head)"
      ]
    },
    {
      "cell_type": "code",
      "execution_count": 6,
      "metadata": {
        "colab": {
          "base_uri": "https://localhost:8080/"
        },
        "id": "oRCXNAkSVMPZ",
        "outputId": "c989a80b-d7a4-48a5-ecec-fbece0ee783f"
      },
      "outputs": [
        {
          "name": "stdout",
          "output_type": "stream",
          "text": [
            "1\n",
            "3\n",
            "8\n",
            "7\n"
          ]
        }
      ],
      "source": [
        "# Traverse the list - O(n)\n",
        "curr = Head\n",
        "\n",
        "while curr:\n",
        "  print(curr)\n",
        "  curr = curr.next"
      ]
    },
    {
      "cell_type": "code",
      "execution_count": null,
      "metadata": {
        "colab": {
          "base_uri": "https://localhost:8080/"
        },
        "id": "UjMNwpn1VaNH",
        "outputId": "d119a84d-1e52-439e-e889-54ec6ba83cc7"
      },
      "outputs": [
        {
          "name": "stdout",
          "output_type": "stream",
          "text": [
            "1 -> 3 -> 4 -> 7\n"
          ]
        }
      ],
      "source": [
        "# Diplay linked list - O(n)\n",
        "def display(head):\n",
        "  curr = head\n",
        "  elements = []\n",
        "  while curr:\n",
        "    elements.append(str(curr.val))\n",
        "    curr = curr.next\n",
        "  print(' -> '.join(elements))\n",
        "\n",
        "display(Head)"
      ]
    },
    {
      "cell_type": "code",
      "execution_count": null,
      "metadata": {
        "colab": {
          "base_uri": "https://localhost:8080/"
        },
        "id": "JZ2t1LsYWC7F",
        "outputId": "b9867ca5-433f-439b-9dd7-ccbf01532651"
      },
      "outputs": [
        {
          "data": {
            "text/plain": [
              "True"
            ]
          },
          "execution_count": 9,
          "metadata": {},
          "output_type": "execute_result"
        }
      ],
      "source": [
        "# Search for node value - O(n)\n",
        "def search(head, val):\n",
        "  curr = head\n",
        "  while curr:\n",
        "    if val == curr.val:\n",
        "      return True\n",
        "    curr = curr.next\n",
        "\n",
        "  return False\n",
        "\n",
        "search(Head, 7)"
      ]
    },
    {
      "cell_type": "code",
      "execution_count": null,
      "metadata": {
        "id": "NTxqi-LMWVTT"
      },
      "outputs": [],
      "source": [
        "# Doubly Linked Lists\n",
        "\n",
        "class DoublyNode:\n",
        "  def __init__(self, val, next=None, prev=None):\n",
        "    self.val = val\n",
        "    self.next = next\n",
        "    self.prev = prev\n",
        "\n",
        "  def __str__(self):\n",
        "    return str(self.val)"
      ]
    },
    {
      "cell_type": "code",
      "execution_count": null,
      "metadata": {
        "colab": {
          "base_uri": "https://localhost:8080/"
        },
        "id": "X1JrYKQlWzIk",
        "outputId": "fa177e00-fe08-42cb-ff91-bb0f88e0e116"
      },
      "outputs": [
        {
          "name": "stdout",
          "output_type": "stream",
          "text": [
            "1\n"
          ]
        }
      ],
      "source": [
        "head = tail = DoublyNode(1)\n",
        "print(tail)"
      ]
    },
    {
      "cell_type": "code",
      "execution_count": null,
      "metadata": {
        "colab": {
          "base_uri": "https://localhost:8080/"
        },
        "id": "Mb5z9hPgW28E",
        "outputId": "2df4edb1-e7fb-4596-8df8-2e290a07e2a7"
      },
      "outputs": [
        {
          "name": "stdout",
          "output_type": "stream",
          "text": [
            "1\n"
          ]
        }
      ],
      "source": [
        "# Display - O(n)\n",
        "def display(head):\n",
        "  curr = head\n",
        "  elements = []\n",
        "  while curr:\n",
        "    elements.append(str(curr.val))\n",
        "    curr = curr.next\n",
        "  print(' <-> '.join(elements))\n",
        "\n",
        "display(head)"
      ]
    },
    {
      "cell_type": "code",
      "execution_count": null,
      "metadata": {
        "colab": {
          "base_uri": "https://localhost:8080/"
        },
        "id": "AKWYlHVXXb7T",
        "outputId": "0f59e669-eeb2-432b-cd88-efc4b8e86e75"
      },
      "outputs": [
        {
          "name": "stdout",
          "output_type": "stream",
          "text": [
            "3 <-> 1\n"
          ]
        }
      ],
      "source": [
        "# Insert at beginning - O(1)\n",
        "def insert_at_beginning(head, tail, val):\n",
        "  new_node = DoublyNode(val, next=head)\n",
        "  head.prev = new_node\n",
        "  return new_node, tail\n",
        "\n",
        "head, tail = insert_at_beginning(head, tail, 3)\n",
        "display(head)"
      ]
    },
    {
      "cell_type": "code",
      "execution_count": null,
      "metadata": {
        "colab": {
          "base_uri": "https://localhost:8080/"
        },
        "id": "7xHxKYiyX_DC",
        "outputId": "79050cad-fde3-478e-f986-7a0166f9f7b4"
      },
      "outputs": [
        {
          "name": "stdout",
          "output_type": "stream",
          "text": [
            "3 <-> 1 <-> 7\n"
          ]
        }
      ],
      "source": [
        "# Insert at end - O(1)\n",
        "def insert_at_end(head, tail, val):\n",
        "    new_node = DoublyNode(val, prev=tail)\n",
        "    tail.next = new_node\n",
        "    return head, new_node\n",
        "\n",
        "head, tail = insert_at_end(head, tail, 7)\n",
        "display(head)"
      ]
    },
    {
      "cell_type": "code",
      "execution_count": null,
      "metadata": {
        "id": "jgZ02dQDYQ1q"
      },
      "outputs": [],
      "source": []
    }
  ],
  "metadata": {
    "colab": {
      "provenance": []
    },
    "kernelspec": {
      "display_name": "Python 3",
      "name": "python3"
    },
    "language_info": {
      "codemirror_mode": {
        "name": "ipython",
        "version": 3
      },
      "file_extension": ".py",
      "mimetype": "text/x-python",
      "name": "python",
      "nbconvert_exporter": "python",
      "pygments_lexer": "ipython3",
      "version": "3.13.2"
    }
  },
  "nbformat": 4,
  "nbformat_minor": 0
}
