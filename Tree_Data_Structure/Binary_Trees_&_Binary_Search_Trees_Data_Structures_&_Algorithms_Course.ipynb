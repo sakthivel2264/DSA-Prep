{
  "nbformat": 4,
  "nbformat_minor": 0,
  "metadata": {
    "colab": {
      "provenance": []
    },
    "kernelspec": {
      "name": "python3",
      "display_name": "Python 3"
    },
    "language_info": {
      "name": "python"
    }
  },
  "cells": [
    {
      "cell_type": "code",
      "execution_count": null,
      "metadata": {
        "id": "7h4OTtXSECxT"
      },
      "outputs": [],
      "source": [
        "# Binary Trees\n",
        "class TreeNode:\n",
        "  def __init__(self, val, left=None, right=None):\n",
        "    self.val = val\n",
        "    self.left = left\n",
        "    self.right = right\n",
        "\n",
        "  def __str__(self):\n",
        "    return str(self.val)"
      ]
    },
    {
      "cell_type": "code",
      "source": [
        "#        1\n",
        "#     2    3\n",
        "#   4  5  10"
      ],
      "metadata": {
        "id": "isjfnlaXEl4M"
      },
      "execution_count": null,
      "outputs": []
    },
    {
      "cell_type": "code",
      "source": [
        "A = TreeNode(1)\n",
        "B = TreeNode(2)\n",
        "C = TreeNode(3)\n",
        "D = TreeNode(4)\n",
        "E = TreeNode(5)\n",
        "F = TreeNode(10)\n",
        "\n",
        "A.left = B\n",
        "A.right = C\n",
        "B.left = D\n",
        "B.right = E\n",
        "C.left = F\n",
        "\n",
        "print(A)"
      ],
      "metadata": {
        "colab": {
          "base_uri": "https://localhost:8080/"
        },
        "id": "zFzoTR4eEpuz",
        "outputId": "85797267-2d73-449d-bd00-5f3898d0c2fe"
      },
      "execution_count": null,
      "outputs": [
        {
          "output_type": "stream",
          "name": "stdout",
          "text": [
            "1\n"
          ]
        }
      ]
    },
    {
      "cell_type": "code",
      "source": [
        "# Recursive Pre Order Traversal (DFS) Time: O(n), Space: O(n)\n",
        "def pre_order(node):\n",
        "  if not node:\n",
        "    return\n",
        "\n",
        "  print(node)\n",
        "  pre_order(node.left)\n",
        "  pre_order(node.right)\n",
        "\n",
        "pre_order(A)"
      ],
      "metadata": {
        "colab": {
          "base_uri": "https://localhost:8080/"
        },
        "id": "8n9hg9LFE6Xx",
        "outputId": "22f6912f-4362-48a8-95d3-e3a251dd802d"
      },
      "execution_count": null,
      "outputs": [
        {
          "output_type": "stream",
          "name": "stdout",
          "text": [
            "1\n",
            "2\n",
            "4\n",
            "5\n",
            "3\n",
            "10\n"
          ]
        }
      ]
    },
    {
      "cell_type": "code",
      "source": [
        "# Recursive In Order Traversal (DFS) Time: O(n), Space: O(n)\n",
        "def in_order(node):\n",
        "  if not node:\n",
        "    return\n",
        "\n",
        "  in_order(node.left)\n",
        "  print(node)\n",
        "  in_order(node.right)\n",
        "\n",
        "in_order(A)"
      ],
      "metadata": {
        "colab": {
          "base_uri": "https://localhost:8080/"
        },
        "id": "BYKKNuxZFO4R",
        "outputId": "6f1c7202-c741-4c5f-e646-c3680b46efff"
      },
      "execution_count": null,
      "outputs": [
        {
          "output_type": "stream",
          "name": "stdout",
          "text": [
            "4\n",
            "2\n",
            "5\n",
            "1\n",
            "10\n",
            "3\n"
          ]
        }
      ]
    },
    {
      "cell_type": "code",
      "source": [
        "# Iterative Pre Order Traversal (DFS) Time: O(n), Space: O(n)\n",
        "def pre_order_iterative(node):\n",
        "  stk = [node]\n",
        "\n",
        "  while stk:\n",
        "    node = stk.pop()\n",
        "    if node.right: stk.append(node.right)\n",
        "    if node.left: stk.append(node.left)\n",
        "    print(node)\n",
        "\n",
        "pre_order_iterative(A)"
      ],
      "metadata": {
        "colab": {
          "base_uri": "https://localhost:8080/"
        },
        "id": "H_WmyK8nFzQi",
        "outputId": "bd3cd4f8-ae94-40c7-a907-3d5a80c8a191"
      },
      "execution_count": null,
      "outputs": [
        {
          "output_type": "stream",
          "name": "stdout",
          "text": [
            "1\n",
            "2\n",
            "4\n",
            "5\n",
            "3\n",
            "10\n"
          ]
        }
      ]
    },
    {
      "cell_type": "code",
      "source": [
        "# Level Order Traversal (BFS) Time: O(n), Space: O(n)\n",
        "from collections import deque\n",
        "\n",
        "def level_order(node):\n",
        "  q = deque()\n",
        "  q.append(node)\n",
        "\n",
        "  while q:\n",
        "    node = q.popleft()\n",
        "    print(node)\n",
        "    if node.left: q.append(node.left)\n",
        "    if node.right: q.append(node.right)\n",
        "\n",
        "level_order(A)"
      ],
      "metadata": {
        "colab": {
          "base_uri": "https://localhost:8080/"
        },
        "id": "AxeydQf1GSxV",
        "outputId": "90e9c735-b692-4a12-8085-1e0398f8fa04"
      },
      "execution_count": null,
      "outputs": [
        {
          "output_type": "stream",
          "name": "stdout",
          "text": [
            "1\n",
            "2\n",
            "3\n",
            "4\n",
            "5\n",
            "10\n"
          ]
        }
      ]
    },
    {
      "cell_type": "code",
      "source": [
        "# Check if Value Exists (DFS) Time: O(n), Space: O(n)\n",
        "def search(node, target):\n",
        "  if not node:\n",
        "    return False\n",
        "\n",
        "  if node.val == target:\n",
        "    return True\n",
        "\n",
        "  return search(node.left, target) or search(node.right, target)\n",
        "\n",
        "search(A, 11)"
      ],
      "metadata": {
        "colab": {
          "base_uri": "https://localhost:8080/"
        },
        "id": "xGSDliNyHK6T",
        "outputId": "df0cdce8-4fb9-4eb5-c8ff-a67d8ce71423"
      },
      "execution_count": null,
      "outputs": [
        {
          "output_type": "execute_result",
          "data": {
            "text/plain": [
              "False"
            ]
          },
          "metadata": {},
          "execution_count": 18
        }
      ]
    },
    {
      "cell_type": "code",
      "source": [
        "# Binary Search Trees (BSTs)\n",
        "\n",
        "#       5\n",
        "#    1    8\n",
        "#  -1 3  7 9\n",
        "\n",
        "A2 = TreeNode(5)\n",
        "B2 = TreeNode(1)\n",
        "C2 = TreeNode(8)\n",
        "D2 = TreeNode(-1)\n",
        "E2 = TreeNode(3)\n",
        "F2 = TreeNode(7)\n",
        "G2 = TreeNode(9)\n",
        "\n",
        "A2.left, A2.right = B2, C2\n",
        "B2.left, B2.right = D2, E2\n",
        "C2.left, C2.right = F2, G2\n",
        "\n",
        "print(A2)"
      ],
      "metadata": {
        "colab": {
          "base_uri": "https://localhost:8080/"
        },
        "id": "uZ_QZWiQHvth",
        "outputId": "6af60a17-ebad-4942-9f69-0c8d4eac2c9b"
      },
      "execution_count": null,
      "outputs": [
        {
          "output_type": "stream",
          "name": "stdout",
          "text": [
            "5\n"
          ]
        }
      ]
    },
    {
      "cell_type": "code",
      "source": [
        "in_order(A2)"
      ],
      "metadata": {
        "colab": {
          "base_uri": "https://localhost:8080/"
        },
        "id": "nKeCrVKOIiwB",
        "outputId": "cdd128e4-ca16-4ae0-e913-05a36f2f8f46"
      },
      "execution_count": null,
      "outputs": [
        {
          "output_type": "stream",
          "name": "stdout",
          "text": [
            "-1\n",
            "1\n",
            "3\n",
            "5\n",
            "7\n",
            "8\n",
            "9\n"
          ]
        }
      ]
    },
    {
      "cell_type": "code",
      "source": [
        "# Time: O(log n), Space: O(log n)\n",
        "def search_bst(node, target):\n",
        "  if not node:\n",
        "    return False\n",
        "\n",
        "  if node.val == target:\n",
        "    return True\n",
        "\n",
        "  if target < node.val: return search_bst(node.left, target)\n",
        "  else: return search_bst(node.right, target)\n",
        "\n",
        "search_bst(A2, -1)"
      ],
      "metadata": {
        "colab": {
          "base_uri": "https://localhost:8080/"
        },
        "id": "Dtd3DHqyInBy",
        "outputId": "14a474f7-312e-4c53-c02a-76805406d600"
      },
      "execution_count": null,
      "outputs": [
        {
          "output_type": "execute_result",
          "data": {
            "text/plain": [
              "True"
            ]
          },
          "metadata": {},
          "execution_count": 23
        }
      ]
    },
    {
      "cell_type": "code",
      "source": [],
      "metadata": {
        "id": "3VcuVGjfJLd5"
      },
      "execution_count": null,
      "outputs": []
    }
  ]
}