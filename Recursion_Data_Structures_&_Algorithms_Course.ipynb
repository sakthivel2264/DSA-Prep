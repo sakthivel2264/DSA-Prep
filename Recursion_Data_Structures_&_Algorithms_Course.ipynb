{
  "nbformat": 4,
  "nbformat_minor": 0,
  "metadata": {
    "colab": {
      "provenance": []
    },
    "kernelspec": {
      "name": "python3",
      "display_name": "Python 3"
    },
    "language_info": {
      "name": "python"
    }
  },
  "cells": [
    {
      "cell_type": "code",
      "execution_count": null,
      "metadata": {
        "colab": {
          "base_uri": "https://localhost:8080/"
        },
        "id": "2ZWwNU8ePaGq",
        "outputId": "1fb18fcf-6f94-4785-f2ff-4ef756198936"
      },
      "outputs": [
        {
          "output_type": "execute_result",
          "data": {
            "text/plain": [
              "144"
            ]
          },
          "metadata": {},
          "execution_count": 13
        }
      ],
      "source": [
        "# Fibonacci\n",
        "# F(0) = 0\n",
        "# F(1) = 1\n",
        "# n > 1: F(n) = F(n-1) + F(n-2)\n",
        "\n",
        "# Time: O(2^n), Space: O(n)\n",
        "def F(n):\n",
        "  if n == 0:\n",
        "    return 0\n",
        "  elif n == 1:\n",
        "    return 1\n",
        "  else:\n",
        "    return F(n-1) + F(n-2)\n",
        "\n",
        "F(12)"
      ]
    },
    {
      "cell_type": "code",
      "source": [
        "# Linked Lists\n",
        "\n",
        "class SinglyNode:\n",
        "\n",
        "  def __init__(self, val, next=None):\n",
        "    self.val = val\n",
        "    self.next = next\n",
        "\n",
        "  def __str__(self):\n",
        "    return str(self.val)\n",
        "\n",
        "Head = SinglyNode(1)\n",
        "A = SinglyNode(3)\n",
        "B = SinglyNode(4)\n",
        "C = SinglyNode(7)\n",
        "\n",
        "Head.next = A\n",
        "A.next = B\n",
        "B.next = C\n",
        "\n",
        "print(Head)"
      ],
      "metadata": {
        "colab": {
          "base_uri": "https://localhost:8080/"
        },
        "id": "52p-hcTDRcJz",
        "outputId": "33c29572-10b5-497f-96b9-d69706ed4284"
      },
      "execution_count": null,
      "outputs": [
        {
          "output_type": "stream",
          "name": "stdout",
          "text": [
            "1\n"
          ]
        }
      ]
    },
    {
      "cell_type": "code",
      "source": [
        "# Time: O(n), Space: O(n)\n",
        "def reverse(node):\n",
        "  if not node:\n",
        "    return\n",
        "\n",
        "  reverse(node.next)\n",
        "  print(node)\n",
        "\n",
        "\n",
        "reverse(Head)"
      ],
      "metadata": {
        "colab": {
          "base_uri": "https://localhost:8080/"
        },
        "id": "JQ4Pdz2PQfFE",
        "outputId": "a3bf450b-e1c6-458a-8c9e-d9e2e0b826f7"
      },
      "execution_count": null,
      "outputs": [
        {
          "output_type": "stream",
          "name": "stdout",
          "text": [
            "7\n",
            "4\n",
            "3\n",
            "1\n"
          ]
        }
      ]
    },
    {
      "cell_type": "code",
      "source": [],
      "metadata": {
        "id": "BUi16PJLSMAQ"
      },
      "execution_count": null,
      "outputs": []
    }
  ]
}